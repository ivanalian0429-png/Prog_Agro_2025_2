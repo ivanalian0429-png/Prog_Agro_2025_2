{
  "nbformat": 4,
  "nbformat_minor": 0,
  "metadata": {
    "colab": {
      "provenance": [],
      "authorship_tag": "ABX9TyOrIyPDqySyDon6f9F3QH9s",
      "include_colab_link": true
    },
    "kernelspec": {
      "name": "python3",
      "display_name": "Python 3"
    },
    "language_info": {
      "name": "python"
    }
  },
  "cells": [
    {
      "cell_type": "markdown",
      "metadata": {
        "id": "view-in-github",
        "colab_type": "text"
      },
      "source": [
        "<a href=\"https://colab.research.google.com/github/ivanalian0429-png/Prog_Agro_2025_2/blob/main/semanas_4_y_5_Agro.ipynb\" target=\"_parent\"><img src=\"https://colab.research.google.com/assets/colab-badge.svg\" alt=\"Open In Colab\"/></a>"
      ]
    },
    {
      "cell_type": "markdown",
      "metadata": {
        "id": "b26b3649"
      },
      "source": [
        "**Listas:**\n",
        "\n",
        "*   **¿Qué son?** Colecciones ordenadas y mutables de elementos. Pueden contener elementos de diferentes tipos de datos. Se definen utilizando corchetes `[]`.\n",
        "*   **Similitudes con otras estructuras:** Al igual que las tuplas, son colecciones ordenadas.\n",
        "*   **Diferencias con otras estructuras:** Son mutables (se pueden modificar después de crearlas), a diferencia de las tuplas. Se diferencian de los diccionarios en que se acceden por índice numérico, no por clave.\n",
        "\n",
        "**Tuplas:**\n",
        "\n",
        "*   **¿Qué son?** Colecciones ordenadas e inmutables de elementos. Al igual que las listas, pueden contener elementos de diferentes tipos de datos. Se definen utilizando paréntesis `()`.\n",
        "*   **Similitudes con otras estructuras:** Al igual que las listas, son colecciones ordenadas.\n",
        "*   **Diferencias con otras estructuras:** Son inmutables (no se pueden modificar después de crearlas), a diferencia de las listas. Se diferencian de los diccionarios en que se acceden por índice numérico, no por clave.\n",
        "\n",
        "**Diccionarios:**\n",
        "\n",
        "*   **¿Qué son?** Colecciones no ordenadas de pares clave-valor. Cada clave es única y se utiliza para acceder a su valor asociado. Se definen utilizando llaves `{}`.\n",
        "*   **Similitudes con otras estructuras:** Pueden almacenar diferentes tipos de datos en los valores, al igual que las listas y tuplas.\n",
        "*   **Diferencias con otras estructuras:** Son colecciones no ordenadas (a diferencia de las listas y tuplas en versiones de Python anteriores a 3.7, donde el orden de inserción no estaba garantizado). Se accede a los elementos por clave, no por índice numérico. Son mutables.\n",
        "\n",
        "**En resumen:**\n",
        "\n",
        "*   **Listas:** Ordenadas, mutables, acceso por índice.\n",
        "*   **Tuplas:** Ordenadas, inmutables, acceso por índice.\n",
        "*   **Diccionarios:** No ordenados (en Python < 3.7), mutables, acceso por clave."
      ]
    },
    {
      "cell_type": "markdown",
      "metadata": {
        "id": "ea17d985"
      },
      "source": [
        "**Funciones en Python**\n",
        "\n",
        "*   **¿Qué son?** Las funciones son bloques de código reutilizables que realizan una tarea específica. Permiten organizar el código, hacerlo más legible y evitar la repetición. Se definen utilizando la palabra clave `def`, seguida del nombre de la función, paréntesis `()` para los parámetros (si los hay) y dos puntos `:`. El cuerpo de la función está indentado.\n",
        "\n",
        "*   **Uso:**\n",
        "    *   **Definición:** Se crea la función con `def`.\n",
        "    *   **Llamada:** Se ejecuta la función escribiendo su nombre seguido de paréntesis `()`. Si la función espera argumentos, se pasan dentro de los paréntesis.\n",
        "\n",
        "    Ejemplo simple:"
      ]
    },
    {
      "cell_type": "markdown",
      "source": [
        "#Situación de Interés en Ingeniería Agrícola fi:\n",
        " Un agrónomo consultor necesita una herramienta\n",
        "rápida para aconsejar a los agricultores sobre qué cultivos sembrar. Se requiere un programa que almacene información de varios cultivos (nombre, mes ideal de siembra, necesidad de agua) y que, al\n",
        "ingresar el nombre de un mes, recomiende qué cultivos son adecuados para sembrar en ese período.\n",
        "\n",
        "1. Caso de Ingeniería Agrícola: Planificador de Cultivos (Listas y Funciones)\n",
        "• Paso a Paso del Código:\n",
        "1. Crear una lista donde cada elemento sea un diccionario. Cada diccionario representará un\n",
        "cultivo y tendrá claves como nombre, mes_siembra y riego.\n",
        "2. Crear una función llamada recomendar_cultivos. Esta función recibirá dos parámetros: la\n",
        "lista completa de cultivos y el mes actual.\n",
        "3. Dentro de la función, usar un bucle for para recorrer la lista de cultivos.\n",
        "4. En cada iteración, usar un if para comprobar si el mes_siembra del cultivo coincide con el mes\n",
        "proporcionado.\n",
        "5. Si coinciden, añadir el nombre del cultivo a una nueva lista de recomendados.\n",
        "6. Al final, la función debe devolver la lista de cultivos recomendados.\n",
        "7. En el programa principal, pedir al usuario el mes y llamar a la función para obtener e imprimir\n",
        "las recomendaciones."
      ],
      "metadata": {
        "id": "NGOaSpLQ1vMQ"
      }
    },
    {
      "cell_type": "code",
      "metadata": {
        "colab": {
          "base_uri": "https://localhost:8080/"
        },
        "id": "783bdfe0",
        "outputId": "c229c25d-8dcc-4e33-d0bb-c09d2c7e9d10"
      },
      "source": [
        "# 2. Crear una lista donde cada elemento sea un diccionario.\n",
        "cultivos = [\n",
        "    {\"nombre\": \"Maíz\", \"mes_siembra\": \"Abril\", \"riegos\": \"Alto\"},\n",
        "    {\"nombre\": \"Trigo\", \"mes_siembra\": \"Octubre\", \"riegos\": \"Medio\"},\n",
        "    {\"nombre\": \"Girasol\", \"mes_siembra\": \"Mayo\", \"riegos\": \"Medio\"},\n",
        "    {\"nombre\": \"Soja\", \"mes_siembra\": \"Noviembre\", \"riegos\": \"Alto\"},\n",
        "    {\"nombre\": \"Arroz\", \"mes_siembra\": \"Mayo\", \"riegos\": \"Muy Alto\"},\n",
        "    {\"nombre\": \"Cebada\", \"mes_siembra\": \"Octubre\", \"riegos\": \"Medio\"},\n",
        "]\n",
        "\n",
        "# 3. Crear una función llamada recomendar_cultivos.\n",
        "def recomendar_cultivos(lista_cultivos, mes_actual):\n",
        "    \"\"\"\n",
        "    Recomienda cultivos adecuados para sembrar en un mes específico.\n",
        "\n",
        "    Args:\n",
        "        lista_cultivos: Una lista de diccionarios, donde cada diccionario representa un cultivo.\n",
        "        mes_actual: El nombre del mes para el cual se desean recomendaciones.\n",
        "\n",
        "    Returns:\n",
        "        Una lista de los nombres de los cultivos recomendados para el mes dado.\n",
        "    \"\"\"\n",
        "    recomendados = []\n",
        "    # 4. Dentro de la función, usar un bucle for para recorrer la lista de cultivos.\n",
        "    for cultivo in lista_cultivos:\n",
        "        # 5. En cada iteración, usar un if para comprobar si el mes_siembra del cultivo coincide.\n",
        "        if cultivo[\"mes_siembra\"].lower() == mes_actual.lower():\n",
        "            # 6. Si coinciden, añadir el nombre del cultivo a una nueva lista de recomendados.\n",
        "            recomendados.append(cultivo[\"nombre\"])\n",
        "    # 7. Al final, la función debe devolver la lista de cultivos recomendados.\n",
        "    return recomendados\n",
        "\n",
        "# 8. En el programa principal, pedir al usuario el mes y llamar a la función.\n",
        "mes_ingresado = input(\"Ingresa el mes actual (ej. Enero, Febrero): \")\n",
        "\n",
        "recomendaciones = recomendar_cultivos(cultivos, mes_ingresado)\n",
        "\n",
        "# Imprimir las recomendaciones\n",
        "if recomendaciones:\n",
        "    print(f\"\\nCultivos recomendados para sembrar en {mes_ingresado}:\")\n",
        "    for cultivo_recomendado in recomendaciones:\n",
        "        print(f\"- {cultivo_recomendado}\")\n",
        "else:\n",
        "    print(f\"\\nNo hay cultivos recomendados para sembrar en {mes_ingresado} en este momento.\")"
      ],
      "execution_count": 2,
      "outputs": [
        {
          "output_type": "stream",
          "name": "stdout",
          "text": [
            "Ingresa el mes actual (ej. Enero, Febrero): noviembre\n",
            "\n",
            "Cultivos recomendados para sembrar en noviembre:\n",
            "- Soja\n"
          ]
        }
      ]
    },
    {
      "cell_type": "markdown",
      "metadata": {
        "id": "e1686a08"
      },
      "source": [
        "Aquí tienes la explicación detallada de cada fragmento del código del planificador de cultivos:\n",
        "\n",
        "**Fragmento 1: Creación de la lista de cultivos**"
      ]
    },
    {
      "cell_type": "code",
      "metadata": {
        "id": "b81ed9f4"
      },
      "source": [
        "def recomendar_cultivos(lista_cultivos, mes_actual):\n",
        "    \"\"\"\n",
        "    Recomienda cultivos adecuados para sembrar en un mes específico.\n",
        "\n",
        "    Args:\n",
        "        lista_cultivos: Una lista de diccionarios, donde cada diccionario representa un cultivo.\n",
        "        mes_actual: El nombre del mes para el cual se desean recomendaciones.\n",
        "\n",
        "    Returns:\n",
        "        Una lista de los nombres de los cultivos recomendados para el mes dado.\n",
        "    \"\"\"\n",
        "    recomendados = []\n",
        "    # ... resto de la función ...\n",
        "    return recomendados"
      ],
      "execution_count": null,
      "outputs": []
    },
    {
      "cell_type": "code",
      "metadata": {
        "id": "25673fdc"
      },
      "source": [
        "    for cultivo in lista_cultivos:\n",
        "        if cultivo[\"mes_siembra\"].lower() == mes_actual.lower():\n",
        "            recomendados.append(cultivo[\"nombre\"])"
      ],
      "execution_count": null,
      "outputs": []
    },
    {
      "cell_type": "code",
      "metadata": {
        "id": "45eac428"
      },
      "source": [
        "mes_ingresado = input(\"Ingresa el mes actual (ej. Enero, Febrero): \")\n",
        "\n",
        "recomendaciones = recomendar_cultivos(cultivos, mes_ingresado)\n",
        "\n",
        "if recomendaciones:\n",
        "    print(f\"\\nCultivos recomendados para sembrar en {mes_ingresado}:\")\n",
        "    for cultivo_recomendado in recomendaciones:\n",
        "        print(f\"- {cultivo_recomendado}\")\n",
        "else:\n",
        "    print(f\"\\nNo hay cultivos recomendados para sembrar en {mes_ingresado} en este momento.\")"
      ],
      "execution_count": null,
      "outputs": []
    }
  ]
}