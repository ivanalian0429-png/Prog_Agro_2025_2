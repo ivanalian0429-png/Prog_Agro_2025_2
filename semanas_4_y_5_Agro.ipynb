{
  "nbformat": 4,
  "nbformat_minor": 0,
  "metadata": {
    "colab": {
      "provenance": [],
      "authorship_tag": "ABX9TyP7y6XFL/3XsC+ra8YvFR3n",
      "include_colab_link": true
    },
    "kernelspec": {
      "name": "python3",
      "display_name": "Python 3"
    },
    "language_info": {
      "name": "python"
    }
  },
  "cells": [
    {
      "cell_type": "markdown",
      "metadata": {
        "id": "view-in-github",
        "colab_type": "text"
      },
      "source": [
        "<a href=\"https://colab.research.google.com/github/ivanalian0429-png/Prog_Agro_2025_2/blob/main/semanas_4_y_5_Agro.ipynb\" target=\"_parent\"><img src=\"https://colab.research.google.com/assets/colab-badge.svg\" alt=\"Open In Colab\"/></a>"
      ]
    },
    {
      "cell_type": "markdown",
      "metadata": {
        "id": "b26b3649"
      },
      "source": [
        "**Listas:**\n",
        "\n",
        "*   **¿Qué son?** Colecciones ordenadas y mutables de elementos. Pueden contener elementos de diferentes tipos de datos. Se definen utilizando corchetes `[]`.\n",
        "*   **Similitudes con otras estructuras:** Al igual que las tuplas, son colecciones ordenadas.\n",
        "*   **Diferencias con otras estructuras:** Son mutables (se pueden modificar después de crearlas), a diferencia de las tuplas. Se diferencian de los diccionarios en que se acceden por índice numérico, no por clave.\n",
        "\n",
        "**Tuplas:**\n",
        "\n",
        "*   **¿Qué son?** Colecciones ordenadas e inmutables de elementos. Al igual que las listas, pueden contener elementos de diferentes tipos de datos. Se definen utilizando paréntesis `()`.\n",
        "*   **Similitudes con otras estructuras:** Al igual que las listas, son colecciones ordenadas.\n",
        "*   **Diferencias con otras estructuras:** Son inmutables (no se pueden modificar después de crearlas), a diferencia de las listas. Se diferencian de los diccionarios en que se acceden por índice numérico, no por clave.\n",
        "\n",
        "**Diccionarios:**\n",
        "\n",
        "*   **¿Qué son?** Colecciones no ordenadas de pares clave-valor. Cada clave es única y se utiliza para acceder a su valor asociado. Se definen utilizando llaves `{}`.\n",
        "*   **Similitudes con otras estructuras:** Pueden almacenar diferentes tipos de datos en los valores, al igual que las listas y tuplas.\n",
        "*   **Diferencias con otras estructuras:** Son colecciones no ordenadas (a diferencia de las listas y tuplas en versiones de Python anteriores a 3.7, donde el orden de inserción no estaba garantizado). Se accede a los elementos por clave, no por índice numérico. Son mutables.\n",
        "\n",
        "**En resumen:**\n",
        "\n",
        "*   **Listas:** Ordenadas, mutables, acceso por índice.\n",
        "*   **Tuplas:** Ordenadas, inmutables, acceso por índice.\n",
        "*   **Diccionarios:** No ordenados (en Python < 3.7), mutables, acceso por clave."
      ]
    },
    {
      "cell_type": "markdown",
      "metadata": {
        "id": "ea17d985"
      },
      "source": [
        "**Funciones en Python**\n",
        "\n",
        "*   **¿Qué son?** Las funciones son bloques de código reutilizables que realizan una tarea específica. Permiten organizar el código, hacerlo más legible y evitar la repetición. Se definen utilizando la palabra clave `def`, seguida del nombre de la función, paréntesis `()` para los parámetros (si los hay) y dos puntos `:`. El cuerpo de la función está indentado.\n",
        "\n",
        "*   **Uso:**\n",
        "    *   **Definición:** Se crea la función con `def`.\n",
        "    *   **Llamada:** Se ejecuta la función escribiendo su nombre seguido de paréntesis `()`. Si la función espera argumentos, se pasan dentro de los paréntesis.\n",
        "\n",
        "    Ejemplo simple:"
      ]
    }
  ]
}