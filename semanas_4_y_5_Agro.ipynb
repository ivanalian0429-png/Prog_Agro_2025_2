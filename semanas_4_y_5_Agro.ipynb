{
  "nbformat": 4,
  "nbformat_minor": 0,
  "metadata": {
    "colab": {
      "provenance": [],
      "authorship_tag": "ABX9TyMX9XtFvOV85cyCqD61pkxU",
      "include_colab_link": true
    },
    "kernelspec": {
      "name": "python3",
      "display_name": "Python 3"
    },
    "language_info": {
      "name": "python"
    }
  },
  "cells": [
    {
      "cell_type": "markdown",
      "metadata": {
        "id": "view-in-github",
        "colab_type": "text"
      },
      "source": [
        "<a href=\"https://colab.research.google.com/github/ivanalian0429-png/Prog_Agro_2025_2/blob/main/semanas_4_y_5_Agro.ipynb\" target=\"_parent\"><img src=\"https://colab.research.google.com/assets/colab-badge.svg\" alt=\"Open In Colab\"/></a>"
      ]
    },
    {
      "cell_type": "markdown",
      "metadata": {
        "id": "b26b3649"
      },
      "source": [
        "**Listas:**\n",
        "\n",
        "*   **¿Qué son?** Colecciones ordenadas y mutables de elementos. Pueden contener elementos de diferentes tipos de datos. Se definen utilizando corchetes `[]`.\n",
        "*   **Similitudes con otras estructuras:** Al igual que las tuplas, son colecciones ordenadas.\n",
        "*   **Diferencias con otras estructuras:** Son mutables (se pueden modificar después de crearlas), a diferencia de las tuplas. Se diferencian de los diccionarios en que se acceden por índice numérico, no por clave.\n",
        "\n",
        "**Tuplas:**\n",
        "\n",
        "*   **¿Qué son?** Colecciones ordenadas e inmutables de elementos. Al igual que las listas, pueden contener elementos de diferentes tipos de datos. Se definen utilizando paréntesis `()`.\n",
        "*   **Similitudes con otras estructuras:** Al igual que las listas, son colecciones ordenadas.\n",
        "*   **Diferencias con otras estructuras:** Son inmutables (no se pueden modificar después de crearlas), a diferencia de las listas. Se diferencian de los diccionarios en que se acceden por índice numérico, no por clave.\n",
        "\n",
        "**Diccionarios:**\n",
        "\n",
        "*   **¿Qué son?** Colecciones no ordenadas de pares clave-valor. Cada clave es única y se utiliza para acceder a su valor asociado. Se definen utilizando llaves `{}`.\n",
        "*   **Similitudes con otras estructuras:** Pueden almacenar diferentes tipos de datos en los valores, al igual que las listas y tuplas.\n",
        "*   **Diferencias con otras estructuras:** Son colecciones no ordenadas (a diferencia de las listas y tuplas en versiones de Python anteriores a 3.7, donde el orden de inserción no estaba garantizado). Se accede a los elementos por clave, no por índice numérico. Son mutables.\n",
        "\n",
        "**En resumen:**\n",
        "\n",
        "*   **Listas:** Ordenadas, mutables, acceso por índice.\n",
        "*   **Tuplas:** Ordenadas, inmutables, acceso por índice.\n",
        "*   **Diccionarios:** No ordenados (en Python < 3.7), mutables, acceso por clave."
      ]
    },
    {
      "cell_type": "markdown",
      "metadata": {
        "id": "ea17d985"
      },
      "source": [
        "**Funciones en Python**\n",
        "\n",
        "*   **¿Qué son?** Las funciones son bloques de código reutilizables que realizan una tarea específica. Permiten organizar el código, hacerlo más legible y evitar la repetición. Se definen utilizando la palabra clave `def`, seguida del nombre de la función, paréntesis `()` para los parámetros (si los hay) y dos puntos `:`. El cuerpo de la función está indentado.\n",
        "\n",
        "*   **Uso:**\n",
        "    *   **Definición:** Se crea la función con `def`.\n",
        "    *   **Llamada:** Se ejecuta la función escribiendo su nombre seguido de paréntesis `()`. Si la función espera argumentos, se pasan dentro de los paréntesis.\n",
        "\n",
        "    Ejemplo simple:"
      ]
    },
    {
      "cell_type": "markdown",
      "source": [
        "#Situación de Interés en Ingeniería Agrícola fi:\n",
        " Un agrónomo consultor necesita una herramienta\n",
        "rápida para aconsejar a los agricultores sobre qué cultivos sembrar. Se requiere un programa que almacene información de varios cultivos (nombre, mes ideal de siembra, necesidad de agua) y que, al\n",
        "ingresar el nombre de un mes, recomiende qué cultivos son adecuados para sembrar en ese período.\n",
        "\n",
        "1. Caso de Ingeniería Agrícola: Planificador de Cultivos (Listas y Funciones)\n",
        "• Paso a Paso del Código:\n",
        "1. Crear una lista donde cada elemento sea un diccionario. Cada diccionario representará un\n",
        "cultivo y tendrá claves como nombre, mes_siembra y riego.\n",
        "2. Crear una función llamada recomendar_cultivos. Esta función recibirá dos parámetros: la\n",
        "lista completa de cultivos y el mes actual.\n",
        "3. Dentro de la función, usar un bucle for para recorrer la lista de cultivos.\n",
        "4. En cada iteración, usar un if para comprobar si el mes_siembra del cultivo coincide con el mes\n",
        "proporcionado.\n",
        "5. Si coinciden, añadir el nombre del cultivo a una nueva lista de recomendados.\n",
        "6. Al final, la función debe devolver la lista de cultivos recomendados.\n",
        "7. En el programa principal, pedir al usuario el mes y llamar a la función para obtener e imprimir\n",
        "las recomendaciones."
      ],
      "metadata": {
        "id": "NGOaSpLQ1vMQ"
      }
    },
    {
      "cell_type": "code",
      "metadata": {
        "colab": {
          "base_uri": "https://localhost:8080/"
        },
        "id": "783bdfe0",
        "outputId": "c229c25d-8dcc-4e33-d0bb-c09d2c7e9d10"
      },
      "source": [
        "# 2. Crear una lista donde cada elemento sea un diccionario.\n",
        "cultivos = [\n",
        "    {\"nombre\": \"Maíz\", \"mes_siembra\": \"Abril\", \"riegos\": \"Alto\"},\n",
        "    {\"nombre\": \"Trigo\", \"mes_siembra\": \"Octubre\", \"riegos\": \"Medio\"},\n",
        "    {\"nombre\": \"Girasol\", \"mes_siembra\": \"Mayo\", \"riegos\": \"Medio\"},\n",
        "    {\"nombre\": \"Soja\", \"mes_siembra\": \"Noviembre\", \"riegos\": \"Alto\"},\n",
        "    {\"nombre\": \"Arroz\", \"mes_siembra\": \"Mayo\", \"riegos\": \"Muy Alto\"},\n",
        "    {\"nombre\": \"Cebada\", \"mes_siembra\": \"Octubre\", \"riegos\": \"Medio\"},\n",
        "]\n",
        "\n",
        "# 3. Crear una función llamada recomendar_cultivos.\n",
        "def recomendar_cultivos(lista_cultivos, mes_actual):\n",
        "    \"\"\"\n",
        "    Recomienda cultivos adecuados para sembrar en un mes específico.\n",
        "\n",
        "    Args:\n",
        "        lista_cultivos: Una lista de diccionarios, donde cada diccionario representa un cultivo.\n",
        "        mes_actual: El nombre del mes para el cual se desean recomendaciones.\n",
        "\n",
        "    Returns:\n",
        "        Una lista de los nombres de los cultivos recomendados para el mes dado.\n",
        "    \"\"\"\n",
        "    recomendados = []\n",
        "    # 4. Dentro de la función, usar un bucle for para recorrer la lista de cultivos.\n",
        "    for cultivo in lista_cultivos:\n",
        "        # 5. En cada iteración, usar un if para comprobar si el mes_siembra del cultivo coincide.\n",
        "        if cultivo[\"mes_siembra\"].lower() == mes_actual.lower():\n",
        "            # 6. Si coinciden, añadir el nombre del cultivo a una nueva lista de recomendados.\n",
        "            recomendados.append(cultivo[\"nombre\"])\n",
        "    # 7. Al final, la función debe devolver la lista de cultivos recomendados.\n",
        "    return recomendados\n",
        "\n",
        "# 8. En el programa principal, pedir al usuario el mes y llamar a la función.\n",
        "mes_ingresado = input(\"Ingresa el mes actual (ej. Enero, Febrero): \")\n",
        "\n",
        "recomendaciones = recomendar_cultivos(cultivos, mes_ingresado)\n",
        "\n",
        "# Imprimir las recomendaciones\n",
        "if recomendaciones:\n",
        "    print(f\"\\nCultivos recomendados para sembrar en {mes_ingresado}:\")\n",
        "    for cultivo_recomendado in recomendaciones:\n",
        "        print(f\"- {cultivo_recomendado}\")\n",
        "else:\n",
        "    print(f\"\\nNo hay cultivos recomendados para sembrar en {mes_ingresado} en este momento.\")"
      ],
      "execution_count": null,
      "outputs": [
        {
          "output_type": "stream",
          "name": "stdout",
          "text": [
            "Ingresa el mes actual (ej. Enero, Febrero): noviembre\n",
            "\n",
            "Cultivos recomendados para sembrar en noviembre:\n",
            "- Soja\n"
          ]
        }
      ]
    },
    {
      "cell_type": "markdown",
      "metadata": {
        "id": "e1686a08"
      },
      "source": [
        "Aquí tienes la explicación detallada de cada fragmento del código del planificador de cultivos:\n",
        "\n",
        "**Fragmento 1: Creación de la lista de cultivos**"
      ]
    },
    {
      "cell_type": "code",
      "metadata": {
        "id": "b81ed9f4"
      },
      "source": [
        "def recomendar_cultivos(lista_cultivos, mes_actual):\n",
        "    \"\"\"\n",
        "    Recomienda cultivos adecuados para sembrar en un mes específico.\n",
        "\n",
        "    Args:\n",
        "        lista_cultivos: Una lista de diccionarios, donde cada diccionario representa un cultivo.\n",
        "        mes_actual: El nombre del mes para el cual se desean recomendaciones.\n",
        "\n",
        "    Returns:\n",
        "        Una lista de los nombres de los cultivos recomendados para el mes dado.\n",
        "    \"\"\"\n",
        "    recomendados = []\n",
        "    # ... resto de la función ...\n",
        "    return recomendados"
      ],
      "execution_count": null,
      "outputs": []
    },
    {
      "cell_type": "code",
      "metadata": {
        "id": "25673fdc"
      },
      "source": [
        "    for cultivo in lista_cultivos:\n",
        "        if cultivo[\"mes_siembra\"].lower() == mes_actual.lower():\n",
        "            recomendados.append(cultivo[\"nombre\"])"
      ],
      "execution_count": null,
      "outputs": []
    },
    {
      "cell_type": "code",
      "metadata": {
        "id": "45eac428",
        "colab": {
          "base_uri": "https://localhost:8080/"
        },
        "outputId": "1c95abb6-6271-417f-cb57-2a263205c399"
      },
      "source": [
        "mes_ingresado = input(\"Ingresa el mes actual (ej. Enero, Febrero): \")\n",
        "\n",
        "recomendaciones = recomendar_cultivos(cultivos, mes_ingresado)\n",
        "\n",
        "if recomendaciones:\n",
        "    print(f\"\\nCultivos recomendados para sembrar en {mes_ingresado}:\")\n",
        "    for cultivo_recomendado in recomendaciones:\n",
        "        print(f\"- {cultivo_recomendado}\")\n",
        "else:\n",
        "    print(f\"\\nNo hay cultivos recomendados para sembrar en {mes_ingresado} en este momento.\")"
      ],
      "execution_count": 3,
      "outputs": [
        {
          "output_type": "stream",
          "name": "stdout",
          "text": [
            "Ingresa el mes actual (ej. Enero, Febrero): enero\n",
            "\n",
            "No hay cultivos recomendados para sembrar en enero en este momento.\n"
          ]
        }
      ]
    },
    {
      "cell_type": "markdown",
      "source": [
        "#Situación 2: Función para Validar Parámetros de Calidad\n",
        "Una planta recibe lotes de fruta y debevalidar si cumplen con los parámetros de pH y grados Brix para ser aceptados. Crearás una función que centralice esta lógica de validación.\n",
        "• Paso a Paso del Código (Guía para el Notebook)\n",
        "1. # Definir una función 'validar_lote' que tome dos parámetros: 'ph' y 'brix'.\n",
        "2. # Dentro de la función, usar una estructura 'if' para verificar si el pH está\n",
        "entre 3.5 y 4.5 Y si los grados Brix son mayores a 12.\n",
        "3. # Si ambas condiciones se cumplen, la función debe devolver el valor booleano\n",
        "True.\n",
        "4. # De lo contrario (else), la función debe devolver el valor booleano False.\n",
        "5. # En el programa principal, pedir al usuario el pH y los grados Brix del lote\n",
        "actual.\n",
        "6. # Llamar a la función 'validar_lote' con los datos ingresados y guardar el\n",
        "resultado (True/False) en una variable.\n",
        "7. # Usar un 'if' en el programa principal para comprobar el valor de esa variable.\n",
        "8. # Si la variable es True, imprimir \"Lote APROBADO\". Si es False, imprimir \"Lote\n",
        "RECHAZADO\".\n"
      ],
      "metadata": {
        "id": "eOIPIV1s7EzU"
      }
    },
    {
      "cell_type": "code",
      "metadata": {
        "id": "33892427"
      },
      "source": [
        "# 1. Definir una función 'validar_lote' que tome dos parámetros: 'ph' y 'brix'.\n",
        "def validar_lote(ph, brix):\n",
        "    \"\"\"\n",
        "    Valida si un lote de fruta cumple con los parámetros de calidad (pH y grados Brix).\n",
        "\n",
        "    Args:\n",
        "        ph: El valor del pH del lote de fruta.\n",
        "        brix: Los grados Brix del lote de fruta.\n",
        "\n",
        "    Returns:\n",
        "        True si el lote es aprobado, False si es rechazado.\n",
        "    \"\"\"\n",
        "    # 2. Dentro de la función, usar una estructura 'if' para verificar las condiciones.\n",
        "    if 3.5 <= ph <= 4.5 and brix > 12:\n",
        "        # 3. Si ambas condiciones se cumplen, la función debe devolver True.\n",
        "        return True\n",
        "    else:\n",
        "        # 4. De lo contrario (else), la función debe devolver False.\n",
        "        return False\n",
        "\n",
        "# 5. En el programa principal, pedir al usuario el pH y los grados Brix.\n",
        "try:\n",
        "    ph_ingresado = float(input(\"Ingresa el valor de pH del lote: \"))\n",
        "    brix_ingresados = float(input(\"Ingresa los grados Brix del lote: \"))\n",
        "\n",
        "    # 6. Llamar a la función 'validar_lote' con los datos ingresados.\n",
        "    lote_aprobado = validar_lote(ph_ingresado, brix_ingresados)\n",
        "\n",
        "    # 7. Usar un 'if' en el programa principal para comprobar el valor de la variable.\n",
        "    # 8. Si la variable es True, imprimir \"Lote APROBADO\". Si es False, imprimir \"Lote RECHAZADO\".\n",
        "    if lote_aprobado:\n",
        "        print(\"\\nLote APROBADO\")\n",
        "    else:\n",
        "        print(\"\\nLote RECHAZADO\")\n",
        "\n",
        "except ValueError:\n",
        "    print(\"\\nEntrada inválida. Por favor, ingresa valores numéricos para pH y Brix.\")"
      ],
      "execution_count": null,
      "outputs": []
    },
    {
      "cell_type": "markdown",
      "metadata": {
        "id": "f3bde9e4"
      },
      "source": [
        "# Task\n",
        "Explica en una sola celda de texto qué es `try` y `except` en Python y luego, en una celda de código, escribe código Python que resuelva para ingeniería agroindustrial la situación 1: crear y consultar la ficha técnica de un producto, incluyendo manejo de errores si el producto no se encuentra."
      ]
    },
    {
      "cell_type": "markdown",
      "metadata": {
        "id": "a24a21af"
      },
      "source": [
        "## Definición de la estructura de datos\n",
        "\n",
        "### Subtask:\n",
        "Definir cómo se almacenará la información de la ficha técnica de cada producto (nombre, ingredientes, información nutricional, etc.), probablemente utilizando un diccionario.\n"
      ]
    },
    {
      "cell_type": "markdown",
      "metadata": {
        "id": "f70e4abd"
      },
      "source": [
        "**Reasoning**:\n",
        "The subtask is to explain `try` and `except` in a single markdown cell.\n",
        "\n"
      ]
    },
    {
      "cell_type": "code",
      "metadata": {
        "id": "1314a7f8"
      },
      "source": [
        "**Manejo de Errores con `try` y `except` en Python**\n",
        "\n",
        "En Python, el manejo de errores es fundamental para crear programas robustos que no fallen abruptamente cuando ocurre algo inesperado. Las construcciones `try` y `except` son las herramientas principales para lograrlo.\n",
        "\n",
        "*   **`try`:** Este bloque de código contiene las instrucciones que podrían generar un error (una excepción). Python intenta ejecutar el código dentro del bloque `try`. Si no ocurre ningún error, el bloque `except` se omite y la ejecución continúa normalmente después del bloque `try...except`.\n",
        "\n",
        "*   **`except`:** Si se produce un error (una excepción) dentro del bloque `try`, Python detiene la ejecución del bloque `try` y busca un bloque `except` que coincida con el tipo de error ocurrido. Si encuentra uno, ejecuta el código dentro de ese bloque `except`. Esto permite manejar el error de manera controlada, por ejemplo, mostrando un mensaje de error amigable al usuario o registrando el error. Se pueden tener múltiples bloques `except` para manejar diferentes tipos de errores.\n",
        "\n",
        "**Propósito:** El propósito principal de `try...except` es prevenir que el programa se caiga debido a errores inesperados en tiempo de ejecución. Permiten \"atrapar\" las excepciones y ejecutar un código alternativo en lugar de detener el programa.\n",
        "\n",
        "**Uso:** La estructura básica es la siguiente:\n",
        "\n",
        "```python\n",
        "try:\n",
        "    # Código que podría generar un error\n",
        "    # ...\n",
        "except TipoDeError:\n",
        "    # Código a ejecutar si ocurre TipoDeError en el bloque try\n",
        "    # ...\n",
        "except OtroTipoDeError as e:\n",
        "    # Código a ejecutar si ocurre OtroTipoDeError.\n",
        "    # La variable 'e' contendrá información sobre la excepción.\n",
        "    # ...\n",
        "except:\n",
        "    # Código a ejecutar si ocurre cualquier otro tipo de error\n",
        "    # ...\n",
        "finally:\n",
        "    # (Opcional) Código que se ejecuta siempre, ocurra o no un error en el try\n",
        "    # ...\n",
        "```\n",
        "\n",
        "En resumen, `try` \"intenta\" ejecutar código, y `except` \"captura\" y maneja los errores que puedan ocurrir durante ese intento."
      ],
      "execution_count": null,
      "outputs": []
    },
    {
      "cell_type": "code",
      "metadata": {
        "id": "de569e91"
      },
      "source": [
        "!pip install pandas openpyxl"
      ],
      "execution_count": null,
      "outputs": []
    },
    {
      "cell_type": "code",
      "metadata": {
        "id": "257b047d"
      },
      "source": [
        "import pandas as pd\n",
        "\n",
        "# Convertir la lista de diccionarios a un DataFrame de pandas\n",
        "df_cultivos = pd.DataFrame(cultivos)\n",
        "\n",
        "# Guardar el DataFrame en un archivo de Excel\n",
        "nombre_archivo_excel = \"cultivos.xlsx\"\n",
        "df_cultivos.to_excel(nombre_archivo_excel, index=False)\n",
        "\n",
        "print(f\"Los datos de los cultivos se han guardado en '{nombre_archivo_excel}'\")"
      ],
      "execution_count": null,
      "outputs": []
    }
  ]
}