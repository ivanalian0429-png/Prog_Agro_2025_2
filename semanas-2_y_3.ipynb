{
  "nbformat": 4,
  "nbformat_minor": 0,
  "metadata": {
    "colab": {
      "provenance": [],
      "authorship_tag": "ABX9TyMcBkNWdDdqFSsl57U+C2l8",
      "include_colab_link": true
    },
    "kernelspec": {
      "name": "python3",
      "display_name": "Python 3"
    },
    "language_info": {
      "name": "python"
    }
  },
  "cells": [
    {
      "cell_type": "markdown",
      "metadata": {
        "id": "view-in-github",
        "colab_type": "text"
      },
      "source": [
        "<a href=\"https://colab.research.google.com/github/ivanalian0429-png/Prog_Agro_2025_2/blob/main/semanas-2_y_3.ipynb\" target=\"_parent\"><img src=\"https://colab.research.google.com/assets/colab-badge.svg\" alt=\"Open In Colab\"/></a>"
      ]
    },
    {
      "cell_type": "markdown",
      "source": [
        "**Situación 1: Control de Calidad de un Lote de Leche **\n",
        "Una planta procesadora debe verificar si un lote de leche cumple con el estándar de acidez (medido en °Dornic). Si la acidez está entre 15 y 18 °D, el\n",
        "lote es aceptado. Si es mayor, se destina a queso; si es menor, se rechaza.\n",
        "Paso a Paso del Código (Guía para el Notebook)\n",
        " 1. # Describir el propósito: Programa de control de calidad de leche por acidez.\n",
        " 2. # Pedir al operario que ingrese el valor de acidez en grados Dornic.\n",
        " 3. # Guardar el valor en una variable.\n",
        " 4. # Escribir una condición 'if' que verifique si la acidez es mayor a 18.\n",
        " 5. # Si se cumple, imprimir \"Lote destinado para producción de queso\".\n",
        " 6. # Usar 'elif' para verificar si la acidez es menor a 15.\n",
        " 7. # Si se cumple, imprimir \"Lote RECHAZADO por baja acidez\".\n",
        " 8. # Usar 'else' para capturar el caso en que la acidez está en el rango aceptable.\n",
        " 9. # Si no se cumplen las condiciones anteriores, imprimir \"Lote ACEPTADO para\n",
        " pasteurización\"."
      ],
      "metadata": {
        "id": "h90F0MfQS_6c"
      }
    },
    {
      "cell_type": "code",
      "source": [
        "# Describir el propósito: Programa de control de calidad de leche por acidez.\n",
        "# Pedir al operario que ingrese el valor de acidez en grados Dornic.\n",
        "# Guardar el valor en una variable.\n",
        "# Escribir una condición 'if' que verifique si la acidez es mayor a 18.\n",
        "# Si se cumple, imprimir \"Lote destinado para producción de queso\".\n",
        "# Usar 'elif' para verificar si la acidez es menor a 15.\n",
        "# Si se cumple, imprimir \"Lote RECHAZADO por baja acidez\".\n",
        "# Usar 'else' para capturar el caso en que la acidez está en el rango aceptable.\n",
        "# Si no se cumplen las condiciones anteriores, imprimir \"Lote ACEPTADO para pasteurización\"."
      ],
      "metadata": {
        "id": "9QP_ZZMXTRWL"
      },
      "execution_count": 3,
      "outputs": []
    },
    {
      "cell_type": "code",
      "metadata": {
        "colab": {
          "base_uri": "https://localhost:8080/"
        },
        "id": "e30b22c9",
        "outputId": "0ef329e5-ea9e-4ac3-d27a-624988799126"
      },
      "source": [
        "# Programa de control de calidad de leche por acidez.\n",
        "\n",
        "# Pedir al operario que ingrese el valor de acidez en grados Dornic.\n",
        "acidez = float(input(\"Ingrese el valor de acidez en grados Dornic: \"))\n",
        "\n",
        "# Escribir una condición 'if' que verifique si la acidez es mayor a 18.\n",
        "if acidez > 18:\n",
        "  # Si se cumple, imprimir \"Lote destinado para producción de queso\".\n",
        "  print(\"Lote destinado para producción de queso\")\n",
        "# Usar 'elif' para verificar si la acidez es menor a 15.\n",
        "elif acidez < 15:\n",
        "  # Si se cumple, imprimir \"Lote RECHAZADO por baja acidez\".\n",
        "  print(\"Lote RECHAZADO por baja acidez\")\n",
        "# Usar 'else' para capturar el caso en que la acidez está en el rango aceptable.\n",
        "else:\n",
        "  # Si no se cumplen las condiciones anteriores, imprimir \"Lote ACEPTADO para pasteurización\".\n",
        "  print(\"Lote ACEPTADO para pasteurización\")"
      ],
      "execution_count": 4,
      "outputs": [
        {
          "output_type": "stream",
          "name": "stdout",
          "text": [
            "Ingrese el valor de acidez en grados Dornic: 14\n",
            "Lote RECHAZADO por baja acidez\n"
          ]
        }
      ]
    }
  ]
}