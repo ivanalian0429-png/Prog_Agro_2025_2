{
  "nbformat": 4,
  "nbformat_minor": 0,
  "metadata": {
    "colab": {
      "provenance": [],
      "authorship_tag": "ABX9TyOJtMMEXeByn/CqauCJYSG2",
      "include_colab_link": true
    },
    "kernelspec": {
      "name": "python3",
      "display_name": "Python 3"
    },
    "language_info": {
      "name": "python"
    }
  },
  "cells": [
    {
      "cell_type": "markdown",
      "metadata": {
        "id": "view-in-github",
        "colab_type": "text"
      },
      "source": [
        "<a href=\"https://colab.research.google.com/github/ivanalian0429-png/Prog_Agro_2025_2/blob/main/%20Semanas_2_y_3.ipynb\" target=\"_parent\"><img src=\"https://colab.research.google.com/assets/colab-badge.svg\" alt=\"Open In Colab\"/></a>"
      ]
    },
    {
      "cell_type": "markdown",
      "source": [
        "**Situación 2: Simulación de Crecimiento de un Cultivo**\n",
        "Un agrónomo quiere simular el crecimiento en altura de una planta durante 5 semanas. La planta crece a una tasa diferente cada semana. El programa debe solicitar la tasa de crecimiento de cada semana y mostrar la altura total al final.\n"
      ],
      "metadata": {
        "id": "JY8-2G4iC7Bu"
      }
    },
    {
      "cell_type": "code",
      "source": [
        "# Inicializar una variable para la altura total de la planta en cero.\n",
        "altura = 0\n",
        "# Inicializar una lista para almacenar los crecimientos semanales.\n",
        "crecimientos_semanales = []\n",
        "\n",
        "# Mostrar un mensaje que indique que se simulará el crecimiento durante 5 semanas.\n",
        "print(\"Simulacion de crecimiento durante 5 semanas.\")\n",
        "\n",
        "# Crear un bucle 'for' que se repita 5 veces (una por cada semana).\n",
        "for semana in range(5):\n",
        "    # Dentro del bucle, pedir al usuario el crecimiento de la planta para la semana\n",
        "    # actual (ej. \"Ingrese el crecimiento en cm para la semana 1:\").\n",
        "    crecimiento = float(input(f\"Ingrese el crecimiento en cm para la semana {semana + 1}: \"))\n",
        "\n",
        "    # Almacenar el crecimiento semanal en la lista.\n",
        "    crecimientos_semanales.append(crecimiento)\n",
        "\n",
        "    # Actualizar la altura total de la planta sumándole el crecimiento de la semana actual.\n",
        "    altura += crecimiento\n",
        "\n",
        "# Después de que el bucle termine, mostrar la altura total acumulada de la planta.\n",
        "print(f\"La altura total de la planta es de {altura} cm.\")\n",
        "\n",
        "# Opcional: Mostrar los crecimientos semanales\n",
        "print(\"Crecimientos semanales:\", crecimientos_semanales)"
      ],
      "metadata": {
        "colab": {
          "base_uri": "https://localhost:8080/"
        },
        "id": "HgCeJAxnDHye",
        "outputId": "210e694e-3c83-42de-ad21-5bc8e07278bc"
      },
      "execution_count": null,
      "outputs": [
        {
          "output_type": "stream",
          "name": "stdout",
          "text": [
            "Simulacion de crecimiento durante 5 semanas.\n",
            "Ingrese el crecimiento en cm para la semana 1: 21\n",
            "Ingrese el crecimiento en cm para la semana 2: 32\n",
            "Ingrese el crecimiento en cm para la semana 3: 43\n",
            "Ingrese el crecimiento en cm para la semana 4: 54\n",
            "Ingrese el crecimiento en cm para la semana 5: 65\n",
            "La altura total de la planta es de 215.0 cm.\n",
            "Crecimientos semanales: [21.0, 32.0, 43.0, 54.0, 65.0]\n"
          ]
        }
      ]
    }
  ]
}